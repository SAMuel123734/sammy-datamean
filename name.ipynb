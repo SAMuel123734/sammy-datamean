{
 "cells": [
  {
   "cell_type": "code",
   "execution_count": 1,
   "id": "0002152c-d285-4754-b7fc-6bb4435f3234",
   "metadata": {},
   "outputs": [
    {
     "name": "stdout",
     "output_type": "stream",
     "text": [
      "my name is daniel\n"
     ]
    }
   ],
   "source": [
    "print(\"my name is daniel\")"
   ]
  },
  {
   "cell_type": "code",
   "execution_count": null,
   "id": "abe4e9ff-f2f6-4a76-9c69-6c2bf23337b2",
   "metadata": {},
   "outputs": [],
   "source": []
  }
 ],
 "metadata": {
  "kernelspec": {
   "display_name": "Python 3 (ipykernel)",
   "language": "python",
   "name": "python3"
  },
  "language_info": {
   "codemirror_mode": {
    "name": "ipython",
    "version": 3
   },
   "file_extension": ".py",
   "mimetype": "text/x-python",
   "name": "python",
   "nbconvert_exporter": "python",
   "pygments_lexer": "ipython3",
   "version": "3.13.5"
  }
 },
 "nbformat": 4,
 "nbformat_minor": 5
}

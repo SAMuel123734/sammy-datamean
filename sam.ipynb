{
 "cells": [
  {
   "cell_type": "code",
   "execution_count": 7,
   "id": "001f5006-3141-43b4-9af2-62c25dc5e43d",
   "metadata": {},
   "outputs": [
    {
     "name": "stdout",
     "output_type": "stream",
     "text": [
      "4.5\n"
     ]
    }
   ],
   "source": [
    "def calculate_mean(nums):\n",
    "    \n",
    "    \n",
    "    formula = sum(nums) / len(nums)\n",
    "    \n",
    "    \n",
    "    \n",
    "    return formula\n",
    "\n",
    "data = ([2,4,5,7])\n",
    "\n",
    "mean = calculate_mean(data)\n",
    "print(mean)\n"
   ]
  },
  {
   "cell_type": "code",
   "execution_count": null,
   "id": "4e90acb1-1f13-43c4-9712-6ec61a8940e8",
   "metadata": {},
   "outputs": [],
   "source": []
  }
 ],
 "metadata": {
  "kernelspec": {
   "display_name": "Python 3 (ipykernel)",
   "language": "python",
   "name": "python3"
  },
  "language_info": {
   "codemirror_mode": {
    "name": "ipython",
    "version": 3
   },
   "file_extension": ".py",
   "mimetype": "text/x-python",
   "name": "python",
   "nbconvert_exporter": "python",
   "pygments_lexer": "ipython3",
   "version": "3.13.5"
  }
 },
 "nbformat": 4,
 "nbformat_minor": 5
}

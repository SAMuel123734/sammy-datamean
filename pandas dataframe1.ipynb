{
 "cells": [
  {
   "cell_type": "code",
   "execution_count": 2,
   "id": "89b900e8-e56a-430d-8685-4d14bcfcbcf8",
   "metadata": {},
   "outputs": [
    {
     "data": {
      "text/html": [
       "<div>\n",
       "<style scoped>\n",
       "    .dataframe tbody tr th:only-of-type {\n",
       "        vertical-align: middle;\n",
       "    }\n",
       "\n",
       "    .dataframe tbody tr th {\n",
       "        vertical-align: top;\n",
       "    }\n",
       "\n",
       "    .dataframe thead th {\n",
       "        text-align: right;\n",
       "    }\n",
       "</style>\n",
       "<table border=\"1\" class=\"dataframe\">\n",
       "  <thead>\n",
       "    <tr style=\"text-align: right;\">\n",
       "      <th></th>\n",
       "      <th>SS</th>\n",
       "      <th>SW</th>\n",
       "      <th>SE</th>\n",
       "      <th>NS</th>\n",
       "      <th>NW</th>\n",
       "      <th>NE</th>\n",
       "      <th>NC</th>\n",
       "    </tr>\n",
       "  </thead>\n",
       "  <tbody>\n",
       "    <tr>\n",
       "      <th>tinubu</th>\n",
       "      <td>2000</td>\n",
       "      <td>2300</td>\n",
       "      <td>2400</td>\n",
       "      <td>2500</td>\n",
       "      <td>3500</td>\n",
       "      <td>5000</td>\n",
       "      <td>5500</td>\n",
       "    </tr>\n",
       "    <tr>\n",
       "      <th>peter obi</th>\n",
       "      <td>1000</td>\n",
       "      <td>14000</td>\n",
       "      <td>3000</td>\n",
       "      <td>2300</td>\n",
       "      <td>2300</td>\n",
       "      <td>2000</td>\n",
       "      <td>4000</td>\n",
       "    </tr>\n",
       "  </tbody>\n",
       "</table>\n",
       "</div>"
      ],
      "text/plain": [
       "             SS     SW    SE    NS    NW    NE    NC\n",
       "tinubu     2000   2300  2400  2500  3500  5000  5500\n",
       "peter obi  1000  14000  3000  2300  2300  2000  4000"
      ]
     },
     "execution_count": 2,
     "metadata": {},
     "output_type": "execute_result"
    }
   ],
   "source": [
    "import pandas as pd\n",
    "geo_zone=pd.DataFrame({'SS':[2000,1000], 'SW':[2300,14000], 'SE':[2400,3000], 'NS':[2500,2300], 'NW':[3500,2300], 'NE':[5000,2000], 'NC':[5500,4000]}, index=['tinubu','peter obi'])\n",
    "geo_zone"
   ]
  },
  {
   "cell_type": "code",
   "execution_count": 3,
   "id": "5bf6cb5b-7abc-4c84-949b-a2e92a935bb2",
   "metadata": {},
   "outputs": [
    {
     "data": {
      "text/plain": [
       "tinubu       23200\n",
       "peter obi    28600\n",
       "dtype: int64"
      ]
     },
     "execution_count": 3,
     "metadata": {},
     "output_type": "execute_result"
    }
   ],
   "source": [
    "def prt_total(data):\n",
    "    total_citizen_supporters = data.sum(1)\n",
    "    return total_citizen_supporters\n",
    "prt_total(geo_zone)    "
   ]
  },
  {
   "cell_type": "code",
   "execution_count": null,
   "id": "1a77825b-fc80-4cd1-a297-88f826ef2fe9",
   "metadata": {},
   "outputs": [],
   "source": []
  }
 ],
 "metadata": {
  "kernelspec": {
   "display_name": "Python 3 (ipykernel)",
   "language": "python",
   "name": "python3"
  },
  "language_info": {
   "codemirror_mode": {
    "name": "ipython",
    "version": 3
   },
   "file_extension": ".py",
   "mimetype": "text/x-python",
   "name": "python",
   "nbconvert_exporter": "python",
   "pygments_lexer": "ipython3",
   "version": "3.13.5"
  }
 },
 "nbformat": 4,
 "nbformat_minor": 5
}
